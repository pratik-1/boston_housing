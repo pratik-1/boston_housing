{
 "nbformat": 4,
 "nbformat_minor": 0,
 "metadata": {
  "colab": {
   "name": "pickle_digits.ipynb",
   "version": "0.3.2",
   "provenance": [],
   "include_colab_link": true
  },
  "kernelspec": {
   "name": "python3",
   "display_name": "Python 3"
  },
  "accelerator": "GPU"
 },
 "cells": [
  {
   "cell_type": "markdown",
   "metadata": {
    "id": "wS4_tczAc6cz",
    "colab_type": "text"
   },
   "source": [
    "# Pickle Digits PCA + Logistic Regression"
   ]
  },
  {
   "cell_type": "markdown",
   "metadata": {
    "id": "G9Ue6uN3cqw9",
    "colab_type": "text"
   },
   "source": [
    "## Modeling\n"
   ]
  },
  {
   "cell_type": "code",
   "metadata": {
    "id": "rFjPFTbCctyO",
    "colab_type": "code",
    "colab": {}
   },
   "source": [
    "import numpy as np\n",
    "import matplotlib.pyplot as plt\n",
    "\n",
    "from sklearn import linear_model, decomposition, datasets\n",
    "from sklearn.pipeline import Pipeline\n",
    "from sklearn.model_selection import GridSearchCV\n",
    "import joblib\n",
    "\n",
    "import warnings\n",
    "warnings.filterwarnings(\"ignore\")"
   ],
   "execution_count": 1,
   "outputs": []
  },
  {
   "cell_type": "markdown",
   "metadata": {
    "id": "AXniYumjdUFW",
    "colab_type": "text"
   },
   "source": [
    "### Setup PCA to Logistic Regression Pipeline and Fit"
   ]
  },
  {
   "cell_type": "markdown",
   "metadata": {
    "id": "dXLK8ixBdeXT",
    "colab_type": "text"
   },
   "source": [
    "#### PCA"
   ]
  },
  {
   "cell_type": "code",
   "metadata": {
    "id": "vpgHhyWudNdn",
    "colab_type": "code",
    "colab": {
     "base_uri": "https://localhost:8080/",
     "height": 51
    },
    "outputId": "d8b3556e-e6d0-4fe6-dc1b-b690b928787e"
   },
   "source": [
    "logistic = linear_model.LogisticRegression()\n",
    "pca = decomposition.PCA()\n",
    "pipe = Pipeline(steps=[('pca', pca), ('logistic', logistic)])\n",
    "digits = datasets.load_digits()\n",
    "X_digits = digits.data\n",
    "y_digits = digits.target\n",
    "pca.fit(X_digits)"
   ],
   "execution_count": 2,
   "outputs": [
    {
     "data": {
      "text/plain": "PCA()"
     },
     "execution_count": 2,
     "metadata": {},
     "output_type": "execute_result"
    }
   ]
  },
  {
   "cell_type": "markdown",
   "metadata": {
    "id": "j1uXCUYodjFN",
    "colab_type": "text"
   },
   "source": [
    "#### Logistic Regression"
   ]
  },
  {
   "cell_type": "code",
   "metadata": {
    "id": "sSpH9ZY3dlG3",
    "colab_type": "code",
    "colab": {
     "base_uri": "https://localhost:8080/",
     "height": 204
    },
    "outputId": "1d44ddba-3d5f-492d-d7c5-ed66e53f45d6"
   },
   "source": [
    "n_components = [20, 40, 64]\n",
    "Cs = np.logspace(-4, 4, 3)\n",
    "\n",
    "#Parameters of pipelines can be set using ‘__’ separated parameter names:\n",
    "\n",
    "estimator = GridSearchCV(pipe,\n",
    "                         dict(pca__n_components=n_components,\n",
    "                              logistic__C=Cs))\n",
    "estimator.fit(X_digits, y_digits)"
   ],
   "execution_count": 3,
   "outputs": [
    {
     "data": {
      "text/plain": "GridSearchCV(estimator=Pipeline(steps=[('pca', PCA()),\n                                       ('logistic', LogisticRegression())]),\n             param_grid={'logistic__C': array([1.e-04, 1.e+00, 1.e+04]),\n                         'pca__n_components': [20, 40, 64]})"
     },
     "execution_count": 3,
     "metadata": {},
     "output_type": "execute_result"
    }
   ]
  },
  {
   "cell_type": "markdown",
   "metadata": {
    "id": "u2bCmwXyeDhZ",
    "colab_type": "text"
   },
   "source": [
    "### Predict"
   ]
  },
  {
   "cell_type": "code",
   "metadata": {
    "id": "brqCrvPIdn0f",
    "colab_type": "code",
    "colab": {
     "base_uri": "https://localhost:8080/",
     "height": 34
    },
    "outputId": "ae52f60f-2549-4984-90c7-31ab8d213714"
   },
   "source": [
    "estimator.predict(X_digits)"
   ],
   "execution_count": 4,
   "outputs": [
    {
     "data": {
      "text/plain": "array([0, 1, 2, ..., 8, 9, 8])"
     },
     "execution_count": 4,
     "metadata": {},
     "output_type": "execute_result"
    }
   ]
  },
  {
   "cell_type": "markdown",
   "metadata": {
    "id": "t3qMS569eWs_",
    "colab_type": "text"
   },
   "source": [
    "### Pickle out Model"
   ]
  },
  {
   "cell_type": "code",
   "metadata": {
    "id": "19SYsuUGeYRq",
    "colab_type": "code",
    "colab": {
     "base_uri": "https://localhost:8080/",
     "height": 34
    },
    "outputId": "c5699332-5cbf-4e22-c33c-bbd72ea6ca1c",
    "pycharm": {
     "name": "#%%\n"
    }
   },
   "source": [
    "joblib.dump(estimator, 'digits_prediction.joblib')"
   ],
   "execution_count": 6,
   "outputs": [
    {
     "data": {
      "text/plain": "['digits_prediction.joblib']"
     },
     "execution_count": 6,
     "metadata": {},
     "output_type": "execute_result"
    }
   ]
  }
 ]
}